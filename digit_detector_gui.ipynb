{
 "cells": [
  {
   "cell_type": "code",
   "execution_count": 1,
   "id": "b42d1fd0",
   "metadata": {},
   "outputs": [],
   "source": [
    "import tkinter as tk\n",
    "from tkinter import filedialog\n",
    "from PIL import Image, ImageTk, ImageOps\n",
    "import numpy as np\n",
    "from tensorflow.keras.models import load_model"
   ]
  },
  {
   "cell_type": "code",
   "execution_count": 2,
   "id": "fecd7779",
   "metadata": {},
   "outputs": [],
   "source": [
    "# Load the trained model\n",
    "model = load_model('digit_detection_model.h5')"
   ]
  },
  {
   "cell_type": "code",
   "execution_count": 3,
   "id": "2fadab2b",
   "metadata": {},
   "outputs": [],
   "source": [
    "# Function to preprocess and predict the digit from an image file\n",
    "def predict_digit(image_path, model):\n",
    "    image = Image.open(image_path).convert('L')\n",
    "    image = ImageOps.invert(image)\n",
    "    image = image.resize((28, 28))\n",
    "    image = np.asarray(image) / 255.0\n",
    "    image = np.expand_dims(image, axis=-1)\n",
    "    image = np.expand_dims(image, axis=0)\n",
    "    prediction = model.predict(image)\n",
    "    predicted_digit = np.argmax(prediction)\n",
    "    return predicted_digit"
   ]
  },
  {
   "cell_type": "code",
   "execution_count": 4,
   "id": "f8262674",
   "metadata": {},
   "outputs": [],
   "source": [
    "\n",
    "def open_image():\n",
    "    file_path = filedialog.askopenfilename()\n",
    "    if file_path:\n",
    "        image = Image.open(file_path)\n",
    "        image.thumbnail((300, 300))\n",
    "        photo = ImageTk.PhotoImage(image)\n",
    "        label_image.config(image=photo)\n",
    "        label_image.image = photo\n",
    "        \n",
    "        predicted_digit = predict_digit(file_path, model)\n",
    "        label_result.config(text=f\"Predicted digit: {predicted_digit}\", fg=\"blue\", font=(\"Arial\", 16, \"bold\"))\n",
    "        button_open.pack_forget()\n",
    "        button_open.pack(pady=10)"
   ]
  },
  {
   "cell_type": "code",
   "execution_count": 8,
   "id": "9145e782",
   "metadata": {},
   "outputs": [],
   "source": [
    "root = tk.Tk()\n",
    "root.title(\"Handwritten Digit Recognition\")\n",
    "\n",
    "# Set a larger default window size and make it resizable\n",
    "root.geometry(\"600x700\")\n",
    "#root.minsize(600, 700)\n",
    "\n",
    "# Create a gradient background\n",
    "canvas = tk.Canvas(root, width=600, height=700)\n",
    "gradient = tk.PhotoImage(file=\"gradient_background.png\")\n",
    "canvas.create_image(0, 0, anchor=\"nw\", image=gradient)\n",
    "canvas.pack()\n",
    "\n",
    "\n",
    "# Create a header\n",
    "header_frame = tk.Frame(root, bg=\"#dfe6e9\")\n",
    "header_frame.place(relx=0.5, rely=0.001, anchor=\"n\")\n",
    "\n",
    "app_label = tk.Label(header_frame, text=\"Handwritten Digit Recognition\", font=(\"Arial\", 24, \"bold\"), bg=\"#dfe6e9\")\n",
    "app_label.pack(pady=10)\n",
    "\n",
    "\n",
    "frame = tk.Frame(root)\n",
    "frame.place(relx=0.5, rely=0.5, anchor=\"center\")\n",
    "\n",
    "label_image = tk.Label(frame)\n",
    "label_image.pack(pady=10)\n",
    "\n",
    "button_open = tk.Button(frame, text=\"Open Image\", bg=\"lightgreen\", command=open_image, font=(\"Arial\", 12, \"bold\"))\n",
    "button_open.pack(pady=10)\n",
    "\n",
    "label_result = tk.Label(frame, text=\"\", font=(\"Arial\", 16, \"bold\"))\n",
    "label_result.pack(pady=10)\n",
    "\n",
    "root.mainloop()\n"
   ]
  },
  {
   "cell_type": "code",
   "execution_count": null,
   "id": "f2c91c1f",
   "metadata": {},
   "outputs": [],
   "source": []
  }
 ],
 "metadata": {
  "kernelspec": {
   "display_name": "Python 3 (ipykernel)",
   "language": "python",
   "name": "python3"
  },
  "language_info": {
   "codemirror_mode": {
    "name": "ipython",
    "version": 3
   },
   "file_extension": ".py",
   "mimetype": "text/x-python",
   "name": "python",
   "nbconvert_exporter": "python",
   "pygments_lexer": "ipython3",
   "version": "3.10.6"
  }
 },
 "nbformat": 4,
 "nbformat_minor": 5
}
